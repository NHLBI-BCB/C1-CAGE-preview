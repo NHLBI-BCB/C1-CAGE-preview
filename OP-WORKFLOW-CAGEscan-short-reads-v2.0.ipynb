{
 "cells": [
  {
   "cell_type": "markdown",
   "metadata": {},
   "source": [
    "# OP-WORKFLOW-CAGEscan-short-reads-v2.0"
   ]
  },
  {
   "cell_type": "markdown",
   "metadata": {},
   "source": [
    "## Imports"
   ]
  },
  {
   "cell_type": "code",
   "execution_count": 1,
   "metadata": {},
   "outputs": [],
   "source": [
    "%matplotlib inline"
   ]
  },
  {
   "cell_type": "code",
   "execution_count": 2,
   "metadata": {},
   "outputs": [],
   "source": [
    "import subprocess, os, shutil\n",
    "import signal\n",
    "import tempfile\n",
    "from collections import defaultdict\n",
    "from Bio import SeqIO\n",
    "from itertools import izip"
   ]
  },
  {
   "cell_type": "markdown",
   "metadata": {},
   "source": [
    "## Custom functions"
   ]
  },
  {
   "cell_type": "code",
   "execution_count": 3,
   "metadata": {},
   "outputs": [],
   "source": [
    "remove_extension = lambda x: x.split('.')[0]"
   ]
  },
  {
   "cell_type": "markdown",
   "metadata": {},
   "source": [
    "## Parameters"
   ]
  },
  {
   "cell_type": "code",
   "execution_count": 4,
   "metadata": {},
   "outputs": [],
   "source": [
    "tagdust2_path = 'tagdust'\n",
    "bwa_path = 'bwa'\n",
    "samtools_path = 'samtools'\n",
    "paired_bam_to_bed12 = 'pairedBamToBed12'\n",
    "umicountFP = 'umicountFP'\n",
    "syncpairs = 'syncpairs'"
   ]
  },
  {
   "cell_type": "code",
   "execution_count": 5,
   "metadata": {},
   "outputs": [],
   "source": [
    "ref_genome = './GRCh38.fa'"
   ]
  },
  {
   "cell_type": "code",
   "execution_count": 6,
   "metadata": {},
   "outputs": [],
   "source": [
    "softwares = {    \n",
    "    'bwa': bwa_path,\n",
    "    'tagdust': tagdust2_path,\n",
    "    'syncpairs': syncpairs,\n",
    "    'samtools': samtools_path,\n",
    "    'pairedBamToBed12': paired_bam_to_bed12,\n",
    "    'umicountFP': umicountFP}"
   ]
  },
  {
   "cell_type": "code",
   "execution_count": 7,
   "metadata": {},
   "outputs": [],
   "source": [
    "output_folders = ['tagdust_r1', 'unzip_r2', 'extracted_r1', 'extracted_r2', 'cleaned_reads', 'cleaned_r1', 'cleaned_r2', \n",
    "                  'r1_sai', 'r2_sai', 'sampe', 'sam_to_bam', 'genome_mapped',\n",
    "                  'properly_paired', 'cagescan_pairs', 'cagescan_fragments']"
   ]
  },
  {
   "cell_type": "code",
   "execution_count": 8,
   "metadata": {},
   "outputs": [],
   "source": [
    "for folder in output_folders:\n",
    "    os.makedirs(os.path.join('output', folder))"
   ]
  },
  {
   "cell_type": "code",
   "execution_count": 9,
   "metadata": {},
   "outputs": [],
   "source": [
    "def get_args(read1, read2, ref_genome, output_folders):\n",
    "    \n",
    "    r1_shortname = remove_extension(os.path.basename(read1))\n",
    "\n",
    "    args = {  \n",
    "        'r1_input': read1,\n",
    "        'r2_input': read2,\n",
    "        'ref_genome': ref_genome,\n",
    "    }\n",
    "    \n",
    "    output_paths = {folder: os.path.join('output', folder, r1_shortname) for folder in output_folders}\n",
    "    \n",
    "    return dict(args, **output_paths)"
   ]
  },
  {
   "cell_type": "code",
   "execution_count": 10,
   "metadata": {},
   "outputs": [],
   "source": [
    "cmds = [\n",
    "    \n",
    "    '{tagdust} -t8 -o {tagdust_r1} -1 F:NNNNNNNN -2 S:TATAGGG -3 R:N {r1_input}',\n",
    "    \n",
    "    'gunzip -c {r2_input} > {unzip_r2}.fq',\n",
    "        \n",
    "    '{syncpairs} {tagdust_r1}.fq {unzip_r2}.fq {extracted_r1}.fq {extracted_r2}.fq',\n",
    "    \n",
    "    '{tagdust} -arch SimpleArchitecture.txt -ref ercc_and_hg38_rRNA.fa -o {cleaned_reads} {extracted_r1}.fq {extracted_r2}.fq',\n",
    "    \n",
    "    'cp {cleaned_reads}_READ1.fq {cleaned_r1}.fq',\n",
    "    \n",
    "    'cp {cleaned_reads}_READ2.fq {cleaned_r2}.fq',\n",
    "    \n",
    "    '{bwa} aln {ref_genome} {cleaned_r1}.fq > {r1_sai}.sai',\n",
    "    \n",
    "    '{bwa} aln {ref_genome} {cleaned_r2}.fq > {r2_sai}.sai',\n",
    "    \n",
    "    '{bwa} sampe -a 2000000 -c 0.00001 {ref_genome} {r1_sai}.sai {r2_sai}.sai {cleaned_r1}.fq {cleaned_r2}.fq > {sampe}.sam',\n",
    "    \n",
    "    '{samtools} view -bSo  {sam_to_bam}.bam {sampe}.sam',\n",
    "    \n",
    "    '{samtools} sort -n {sam_to_bam}.bam {genome_mapped}',\n",
    "    \n",
    "    '{samtools} view -f 0x0002 -F 0x0100 -bo {properly_paired}.bam {genome_mapped}.bam',\n",
    "    \n",
    "    '{pairedBamToBed12} -i {properly_paired}.bam > {cagescan_pairs}.bed',\n",
    "    \n",
    "    '{umicountFP} -f {cagescan_pairs}.bed > {cagescan_fragments}.bed'\n",
    "    \n",
    "]"
   ]
  },
  {
   "cell_type": "code",
   "execution_count": 11,
   "metadata": {},
   "outputs": [],
   "source": [
    "root, folders, files = os.walk('./test_data/').next()\n",
    "\n",
    "reads1 = sorted([os.path.join(root, f) for f in files if 'R1' in f])[:10]\n",
    "reads2 = sorted([os.path.join(root, f) for f in files if 'R2' in f])[:10]"
   ]
  },
  {
   "cell_type": "code",
   "execution_count": 12,
   "metadata": {},
   "outputs": [
    {
     "name": "stdout",
     "output_type": "stream",
     "text": [
      "tagdust -t8 -o output/tagdust_r1/100_S100_L001_R1_001 -1 F:NNNNNNNN -2 S:TATAGGG -3 R:N ./test_data/100_S100_L001_R1_001.fastq.gz\n",
      "gunzip -c ./test_data/100_S100_L001_R2_001.fastq.gz > output/unzip_r2/100_S100_L001_R1_001.fq\n",
      "syncpairs output/tagdust_r1/100_S100_L001_R1_001.fq output/unzip_r2/100_S100_L001_R1_001.fq output/extracted_r1/100_S100_L001_R1_001.fq output/extracted_r2/100_S100_L001_R1_001.fq\n",
      "tagdust -arch SimpleArchitecture.txt -ref ercc_and_hg38_rRNA.fa -o output/cleaned_reads/100_S100_L001_R1_001 output/extracted_r1/100_S100_L001_R1_001.fq output/extracted_r2/100_S100_L001_R1_001.fq\n",
      "cp output/cleaned_reads/100_S100_L001_R1_001_READ1.fq output/cleaned_r1/100_S100_L001_R1_001.fq\n",
      "cp output/cleaned_reads/100_S100_L001_R1_001_READ2.fq output/cleaned_r2/100_S100_L001_R1_001.fq\n",
      "bwa aln ./GRCh38.fa output/cleaned_r1/100_S100_L001_R1_001.fq > output/r1_sai/100_S100_L001_R1_001.sai\n",
      "bwa aln ./GRCh38.fa output/cleaned_r2/100_S100_L001_R1_001.fq > output/r2_sai/100_S100_L001_R1_001.sai\n",
      "bwa sampe -a 2000000 -c 0.00001 ./GRCh38.fa output/r1_sai/100_S100_L001_R1_001.sai output/r2_sai/100_S100_L001_R1_001.sai output/cleaned_r1/100_S100_L001_R1_001.fq output/cleaned_r2/100_S100_L001_R1_001.fq > output/sampe/100_S100_L001_R1_001.sam\n",
      "samtools view -bSo  output/sam_to_bam/100_S100_L001_R1_001.bam output/sampe/100_S100_L001_R1_001.sam\n",
      "samtools sort -n output/sam_to_bam/100_S100_L001_R1_001.bam output/genome_mapped/100_S100_L001_R1_001\n",
      "samtools view -f 0x0002 -F 0x0100 -bo output/properly_paired/100_S100_L001_R1_001.bam output/genome_mapped/100_S100_L001_R1_001.bam\n",
      "pairedBamToBed12 -i output/properly_paired/100_S100_L001_R1_001.bam > output/cagescan_pairs/100_S100_L001_R1_001.bed\n",
      "umicountFP -f output/cagescan_pairs/100_S100_L001_R1_001.bed > output/cagescan_fragments/100_S100_L001_R1_001.bed\n",
      "tagdust -t8 -o output/tagdust_r1/101_S101_L001_R1_001 -1 F:NNNNNNNN -2 S:TATAGGG -3 R:N ./test_data/101_S101_L001_R1_001.fastq.gz\n",
      "gunzip -c ./test_data/101_S101_L001_R2_001.fastq.gz > output/unzip_r2/101_S101_L001_R1_001.fq\n",
      "syncpairs output/tagdust_r1/101_S101_L001_R1_001.fq output/unzip_r2/101_S101_L001_R1_001.fq output/extracted_r1/101_S101_L001_R1_001.fq output/extracted_r2/101_S101_L001_R1_001.fq\n",
      "tagdust -arch SimpleArchitecture.txt -ref ercc_and_hg38_rRNA.fa -o output/cleaned_reads/101_S101_L001_R1_001 output/extracted_r1/101_S101_L001_R1_001.fq output/extracted_r2/101_S101_L001_R1_001.fq\n",
      "cp output/cleaned_reads/101_S101_L001_R1_001_READ1.fq output/cleaned_r1/101_S101_L001_R1_001.fq\n",
      "cp output/cleaned_reads/101_S101_L001_R1_001_READ2.fq output/cleaned_r2/101_S101_L001_R1_001.fq\n",
      "bwa aln ./GRCh38.fa output/cleaned_r1/101_S101_L001_R1_001.fq > output/r1_sai/101_S101_L001_R1_001.sai\n",
      "bwa aln ./GRCh38.fa output/cleaned_r2/101_S101_L001_R1_001.fq > output/r2_sai/101_S101_L001_R1_001.sai\n",
      "bwa sampe -a 2000000 -c 0.00001 ./GRCh38.fa output/r1_sai/101_S101_L001_R1_001.sai output/r2_sai/101_S101_L001_R1_001.sai output/cleaned_r1/101_S101_L001_R1_001.fq output/cleaned_r2/101_S101_L001_R1_001.fq > output/sampe/101_S101_L001_R1_001.sam\n",
      "samtools view -bSo  output/sam_to_bam/101_S101_L001_R1_001.bam output/sampe/101_S101_L001_R1_001.sam\n",
      "samtools sort -n output/sam_to_bam/101_S101_L001_R1_001.bam output/genome_mapped/101_S101_L001_R1_001\n",
      "samtools view -f 0x0002 -F 0x0100 -bo output/properly_paired/101_S101_L001_R1_001.bam output/genome_mapped/101_S101_L001_R1_001.bam\n",
      "pairedBamToBed12 -i output/properly_paired/101_S101_L001_R1_001.bam > output/cagescan_pairs/101_S101_L001_R1_001.bed\n",
      "umicountFP -f output/cagescan_pairs/101_S101_L001_R1_001.bed > output/cagescan_fragments/101_S101_L001_R1_001.bed\n",
      "tagdust -t8 -o output/tagdust_r1/102_S102_L001_R1_001 -1 F:NNNNNNNN -2 S:TATAGGG -3 R:N ./test_data/102_S102_L001_R1_001.fastq.gz\n",
      "gunzip -c ./test_data/102_S102_L001_R2_001.fastq.gz > output/unzip_r2/102_S102_L001_R1_001.fq\n",
      "syncpairs output/tagdust_r1/102_S102_L001_R1_001.fq output/unzip_r2/102_S102_L001_R1_001.fq output/extracted_r1/102_S102_L001_R1_001.fq output/extracted_r2/102_S102_L001_R1_001.fq\n",
      "tagdust -arch SimpleArchitecture.txt -ref ercc_and_hg38_rRNA.fa -o output/cleaned_reads/102_S102_L001_R1_001 output/extracted_r1/102_S102_L001_R1_001.fq output/extracted_r2/102_S102_L001_R1_001.fq\n",
      "cp output/cleaned_reads/102_S102_L001_R1_001_READ1.fq output/cleaned_r1/102_S102_L001_R1_001.fq\n",
      "cp output/cleaned_reads/102_S102_L001_R1_001_READ2.fq output/cleaned_r2/102_S102_L001_R1_001.fq\n",
      "bwa aln ./GRCh38.fa output/cleaned_r1/102_S102_L001_R1_001.fq > output/r1_sai/102_S102_L001_R1_001.sai\n",
      "bwa aln ./GRCh38.fa output/cleaned_r2/102_S102_L001_R1_001.fq > output/r2_sai/102_S102_L001_R1_001.sai\n",
      "bwa sampe -a 2000000 -c 0.00001 ./GRCh38.fa output/r1_sai/102_S102_L001_R1_001.sai output/r2_sai/102_S102_L001_R1_001.sai output/cleaned_r1/102_S102_L001_R1_001.fq output/cleaned_r2/102_S102_L001_R1_001.fq > output/sampe/102_S102_L001_R1_001.sam\n",
      "samtools view -bSo  output/sam_to_bam/102_S102_L001_R1_001.bam output/sampe/102_S102_L001_R1_001.sam\n",
      "samtools sort -n output/sam_to_bam/102_S102_L001_R1_001.bam output/genome_mapped/102_S102_L001_R1_001\n",
      "samtools view -f 0x0002 -F 0x0100 -bo output/properly_paired/102_S102_L001_R1_001.bam output/genome_mapped/102_S102_L001_R1_001.bam\n",
      "pairedBamToBed12 -i output/properly_paired/102_S102_L001_R1_001.bam > output/cagescan_pairs/102_S102_L001_R1_001.bed\n",
      "umicountFP -f output/cagescan_pairs/102_S102_L001_R1_001.bed > output/cagescan_fragments/102_S102_L001_R1_001.bed\n",
      "tagdust -t8 -o output/tagdust_r1/103_S103_L001_R1_001 -1 F:NNNNNNNN -2 S:TATAGGG -3 R:N ./test_data/103_S103_L001_R1_001.fastq.gz\n",
      "gunzip -c ./test_data/103_S103_L001_R2_001.fastq.gz > output/unzip_r2/103_S103_L001_R1_001.fq\n",
      "syncpairs output/tagdust_r1/103_S103_L001_R1_001.fq output/unzip_r2/103_S103_L001_R1_001.fq output/extracted_r1/103_S103_L001_R1_001.fq output/extracted_r2/103_S103_L001_R1_001.fq\n",
      "tagdust -arch SimpleArchitecture.txt -ref ercc_and_hg38_rRNA.fa -o output/cleaned_reads/103_S103_L001_R1_001 output/extracted_r1/103_S103_L001_R1_001.fq output/extracted_r2/103_S103_L001_R1_001.fq\n",
      "cp output/cleaned_reads/103_S103_L001_R1_001_READ1.fq output/cleaned_r1/103_S103_L001_R1_001.fq\n",
      "cp output/cleaned_reads/103_S103_L001_R1_001_READ2.fq output/cleaned_r2/103_S103_L001_R1_001.fq\n",
      "bwa aln ./GRCh38.fa output/cleaned_r1/103_S103_L001_R1_001.fq > output/r1_sai/103_S103_L001_R1_001.sai\n",
      "bwa aln ./GRCh38.fa output/cleaned_r2/103_S103_L001_R1_001.fq > output/r2_sai/103_S103_L001_R1_001.sai\n",
      "bwa sampe -a 2000000 -c 0.00001 ./GRCh38.fa output/r1_sai/103_S103_L001_R1_001.sai output/r2_sai/103_S103_L001_R1_001.sai output/cleaned_r1/103_S103_L001_R1_001.fq output/cleaned_r2/103_S103_L001_R1_001.fq > output/sampe/103_S103_L001_R1_001.sam\n",
      "samtools view -bSo  output/sam_to_bam/103_S103_L001_R1_001.bam output/sampe/103_S103_L001_R1_001.sam\n",
      "samtools sort -n output/sam_to_bam/103_S103_L001_R1_001.bam output/genome_mapped/103_S103_L001_R1_001\n",
      "samtools view -f 0x0002 -F 0x0100 -bo output/properly_paired/103_S103_L001_R1_001.bam output/genome_mapped/103_S103_L001_R1_001.bam\n",
      "pairedBamToBed12 -i output/properly_paired/103_S103_L001_R1_001.bam > output/cagescan_pairs/103_S103_L001_R1_001.bed\n",
      "umicountFP -f output/cagescan_pairs/103_S103_L001_R1_001.bed > output/cagescan_fragments/103_S103_L001_R1_001.bed\n",
      "tagdust -t8 -o output/tagdust_r1/104_S104_L001_R1_001 -1 F:NNNNNNNN -2 S:TATAGGG -3 R:N ./test_data/104_S104_L001_R1_001.fastq.gz\n",
      "gunzip -c ./test_data/104_S104_L001_R2_001.fastq.gz > output/unzip_r2/104_S104_L001_R1_001.fq\n",
      "syncpairs output/tagdust_r1/104_S104_L001_R1_001.fq output/unzip_r2/104_S104_L001_R1_001.fq output/extracted_r1/104_S104_L001_R1_001.fq output/extracted_r2/104_S104_L001_R1_001.fq\n",
      "tagdust -arch SimpleArchitecture.txt -ref ercc_and_hg38_rRNA.fa -o output/cleaned_reads/104_S104_L001_R1_001 output/extracted_r1/104_S104_L001_R1_001.fq output/extracted_r2/104_S104_L001_R1_001.fq\n",
      "cp output/cleaned_reads/104_S104_L001_R1_001_READ1.fq output/cleaned_r1/104_S104_L001_R1_001.fq\n",
      "cp output/cleaned_reads/104_S104_L001_R1_001_READ2.fq output/cleaned_r2/104_S104_L001_R1_001.fq\n",
      "bwa aln ./GRCh38.fa output/cleaned_r1/104_S104_L001_R1_001.fq > output/r1_sai/104_S104_L001_R1_001.sai\n",
      "bwa aln ./GRCh38.fa output/cleaned_r2/104_S104_L001_R1_001.fq > output/r2_sai/104_S104_L001_R1_001.sai\n",
      "bwa sampe -a 2000000 -c 0.00001 ./GRCh38.fa output/r1_sai/104_S104_L001_R1_001.sai output/r2_sai/104_S104_L001_R1_001.sai output/cleaned_r1/104_S104_L001_R1_001.fq output/cleaned_r2/104_S104_L001_R1_001.fq > output/sampe/104_S104_L001_R1_001.sam\n",
      "samtools view -bSo  output/sam_to_bam/104_S104_L001_R1_001.bam output/sampe/104_S104_L001_R1_001.sam\n",
      "samtools sort -n output/sam_to_bam/104_S104_L001_R1_001.bam output/genome_mapped/104_S104_L001_R1_001\n",
      "samtools view -f 0x0002 -F 0x0100 -bo output/properly_paired/104_S104_L001_R1_001.bam output/genome_mapped/104_S104_L001_R1_001.bam\n",
      "pairedBamToBed12 -i output/properly_paired/104_S104_L001_R1_001.bam > output/cagescan_pairs/104_S104_L001_R1_001.bed\n",
      "umicountFP -f output/cagescan_pairs/104_S104_L001_R1_001.bed > output/cagescan_fragments/104_S104_L001_R1_001.bed\n",
      "tagdust -t8 -o output/tagdust_r1/105_S105_L001_R1_001 -1 F:NNNNNNNN -2 S:TATAGGG -3 R:N ./test_data/105_S105_L001_R1_001.fastq.gz\n",
      "gunzip -c ./test_data/105_S105_L001_R2_001.fastq.gz > output/unzip_r2/105_S105_L001_R1_001.fq\n",
      "syncpairs output/tagdust_r1/105_S105_L001_R1_001.fq output/unzip_r2/105_S105_L001_R1_001.fq output/extracted_r1/105_S105_L001_R1_001.fq output/extracted_r2/105_S105_L001_R1_001.fq\n",
      "tagdust -arch SimpleArchitecture.txt -ref ercc_and_hg38_rRNA.fa -o output/cleaned_reads/105_S105_L001_R1_001 output/extracted_r1/105_S105_L001_R1_001.fq output/extracted_r2/105_S105_L001_R1_001.fq\n",
      "cp output/cleaned_reads/105_S105_L001_R1_001_READ1.fq output/cleaned_r1/105_S105_L001_R1_001.fq\n",
      "cp output/cleaned_reads/105_S105_L001_R1_001_READ2.fq output/cleaned_r2/105_S105_L001_R1_001.fq\n",
      "bwa aln ./GRCh38.fa output/cleaned_r1/105_S105_L001_R1_001.fq > output/r1_sai/105_S105_L001_R1_001.sai\n",
      "bwa aln ./GRCh38.fa output/cleaned_r2/105_S105_L001_R1_001.fq > output/r2_sai/105_S105_L001_R1_001.sai\n",
      "bwa sampe -a 2000000 -c 0.00001 ./GRCh38.fa output/r1_sai/105_S105_L001_R1_001.sai output/r2_sai/105_S105_L001_R1_001.sai output/cleaned_r1/105_S105_L001_R1_001.fq output/cleaned_r2/105_S105_L001_R1_001.fq > output/sampe/105_S105_L001_R1_001.sam\n",
      "samtools view -bSo  output/sam_to_bam/105_S105_L001_R1_001.bam output/sampe/105_S105_L001_R1_001.sam\n",
      "samtools sort -n output/sam_to_bam/105_S105_L001_R1_001.bam output/genome_mapped/105_S105_L001_R1_001\n",
      "samtools view -f 0x0002 -F 0x0100 -bo output/properly_paired/105_S105_L001_R1_001.bam output/genome_mapped/105_S105_L001_R1_001.bam\n",
      "pairedBamToBed12 -i output/properly_paired/105_S105_L001_R1_001.bam > output/cagescan_pairs/105_S105_L001_R1_001.bed\n",
      "umicountFP -f output/cagescan_pairs/105_S105_L001_R1_001.bed > output/cagescan_fragments/105_S105_L001_R1_001.bed\n",
      "tagdust -t8 -o output/tagdust_r1/106_S106_L001_R1_001 -1 F:NNNNNNNN -2 S:TATAGGG -3 R:N ./test_data/106_S106_L001_R1_001.fastq.gz\n",
      "gunzip -c ./test_data/106_S106_L001_R2_001.fastq.gz > output/unzip_r2/106_S106_L001_R1_001.fq\n",
      "syncpairs output/tagdust_r1/106_S106_L001_R1_001.fq output/unzip_r2/106_S106_L001_R1_001.fq output/extracted_r1/106_S106_L001_R1_001.fq output/extracted_r2/106_S106_L001_R1_001.fq\n",
      "tagdust -arch SimpleArchitecture.txt -ref ercc_and_hg38_rRNA.fa -o output/cleaned_reads/106_S106_L001_R1_001 output/extracted_r1/106_S106_L001_R1_001.fq output/extracted_r2/106_S106_L001_R1_001.fq\n",
      "cp output/cleaned_reads/106_S106_L001_R1_001_READ1.fq output/cleaned_r1/106_S106_L001_R1_001.fq\n",
      "cp output/cleaned_reads/106_S106_L001_R1_001_READ2.fq output/cleaned_r2/106_S106_L001_R1_001.fq\n",
      "bwa aln ./GRCh38.fa output/cleaned_r1/106_S106_L001_R1_001.fq > output/r1_sai/106_S106_L001_R1_001.sai\n",
      "bwa aln ./GRCh38.fa output/cleaned_r2/106_S106_L001_R1_001.fq > output/r2_sai/106_S106_L001_R1_001.sai\n",
      "bwa sampe -a 2000000 -c 0.00001 ./GRCh38.fa output/r1_sai/106_S106_L001_R1_001.sai output/r2_sai/106_S106_L001_R1_001.sai output/cleaned_r1/106_S106_L001_R1_001.fq output/cleaned_r2/106_S106_L001_R1_001.fq > output/sampe/106_S106_L001_R1_001.sam\n",
      "samtools view -bSo  output/sam_to_bam/106_S106_L001_R1_001.bam output/sampe/106_S106_L001_R1_001.sam\n",
      "samtools sort -n output/sam_to_bam/106_S106_L001_R1_001.bam output/genome_mapped/106_S106_L001_R1_001\n",
      "samtools view -f 0x0002 -F 0x0100 -bo output/properly_paired/106_S106_L001_R1_001.bam output/genome_mapped/106_S106_L001_R1_001.bam\n",
      "pairedBamToBed12 -i output/properly_paired/106_S106_L001_R1_001.bam > output/cagescan_pairs/106_S106_L001_R1_001.bed\n",
      "umicountFP -f output/cagescan_pairs/106_S106_L001_R1_001.bed > output/cagescan_fragments/106_S106_L001_R1_001.bed\n",
      "tagdust -t8 -o output/tagdust_r1/107_S107_L001_R1_001 -1 F:NNNNNNNN -2 S:TATAGGG -3 R:N ./test_data/107_S107_L001_R1_001.fastq.gz\n",
      "gunzip -c ./test_data/107_S107_L001_R2_001.fastq.gz > output/unzip_r2/107_S107_L001_R1_001.fq\n",
      "syncpairs output/tagdust_r1/107_S107_L001_R1_001.fq output/unzip_r2/107_S107_L001_R1_001.fq output/extracted_r1/107_S107_L001_R1_001.fq output/extracted_r2/107_S107_L001_R1_001.fq\n",
      "tagdust -arch SimpleArchitecture.txt -ref ercc_and_hg38_rRNA.fa -o output/cleaned_reads/107_S107_L001_R1_001 output/extracted_r1/107_S107_L001_R1_001.fq output/extracted_r2/107_S107_L001_R1_001.fq\n",
      "cp output/cleaned_reads/107_S107_L001_R1_001_READ1.fq output/cleaned_r1/107_S107_L001_R1_001.fq\n",
      "cp output/cleaned_reads/107_S107_L001_R1_001_READ2.fq output/cleaned_r2/107_S107_L001_R1_001.fq\n",
      "bwa aln ./GRCh38.fa output/cleaned_r1/107_S107_L001_R1_001.fq > output/r1_sai/107_S107_L001_R1_001.sai\n",
      "bwa aln ./GRCh38.fa output/cleaned_r2/107_S107_L001_R1_001.fq > output/r2_sai/107_S107_L001_R1_001.sai\n",
      "bwa sampe -a 2000000 -c 0.00001 ./GRCh38.fa output/r1_sai/107_S107_L001_R1_001.sai output/r2_sai/107_S107_L001_R1_001.sai output/cleaned_r1/107_S107_L001_R1_001.fq output/cleaned_r2/107_S107_L001_R1_001.fq > output/sampe/107_S107_L001_R1_001.sam\n",
      "samtools view -bSo  output/sam_to_bam/107_S107_L001_R1_001.bam output/sampe/107_S107_L001_R1_001.sam\n",
      "samtools sort -n output/sam_to_bam/107_S107_L001_R1_001.bam output/genome_mapped/107_S107_L001_R1_001\n",
      "samtools view -f 0x0002 -F 0x0100 -bo output/properly_paired/107_S107_L001_R1_001.bam output/genome_mapped/107_S107_L001_R1_001.bam\n",
      "pairedBamToBed12 -i output/properly_paired/107_S107_L001_R1_001.bam > output/cagescan_pairs/107_S107_L001_R1_001.bed\n",
      "umicountFP -f output/cagescan_pairs/107_S107_L001_R1_001.bed > output/cagescan_fragments/107_S107_L001_R1_001.bed\n",
      "tagdust -t8 -o output/tagdust_r1/108_S108_L001_R1_001 -1 F:NNNNNNNN -2 S:TATAGGG -3 R:N ./test_data/108_S108_L001_R1_001.fastq.gz\n",
      "gunzip -c ./test_data/108_S108_L001_R2_001.fastq.gz > output/unzip_r2/108_S108_L001_R1_001.fq\n",
      "syncpairs output/tagdust_r1/108_S108_L001_R1_001.fq output/unzip_r2/108_S108_L001_R1_001.fq output/extracted_r1/108_S108_L001_R1_001.fq output/extracted_r2/108_S108_L001_R1_001.fq\n",
      "tagdust -arch SimpleArchitecture.txt -ref ercc_and_hg38_rRNA.fa -o output/cleaned_reads/108_S108_L001_R1_001 output/extracted_r1/108_S108_L001_R1_001.fq output/extracted_r2/108_S108_L001_R1_001.fq\n",
      "cp output/cleaned_reads/108_S108_L001_R1_001_READ1.fq output/cleaned_r1/108_S108_L001_R1_001.fq\n",
      "cp output/cleaned_reads/108_S108_L001_R1_001_READ2.fq output/cleaned_r2/108_S108_L001_R1_001.fq\n",
      "bwa aln ./GRCh38.fa output/cleaned_r1/108_S108_L001_R1_001.fq > output/r1_sai/108_S108_L001_R1_001.sai\n",
      "bwa aln ./GRCh38.fa output/cleaned_r2/108_S108_L001_R1_001.fq > output/r2_sai/108_S108_L001_R1_001.sai\n",
      "bwa sampe -a 2000000 -c 0.00001 ./GRCh38.fa output/r1_sai/108_S108_L001_R1_001.sai output/r2_sai/108_S108_L001_R1_001.sai output/cleaned_r1/108_S108_L001_R1_001.fq output/cleaned_r2/108_S108_L001_R1_001.fq > output/sampe/108_S108_L001_R1_001.sam\n",
      "samtools view -bSo  output/sam_to_bam/108_S108_L001_R1_001.bam output/sampe/108_S108_L001_R1_001.sam\n",
      "samtools sort -n output/sam_to_bam/108_S108_L001_R1_001.bam output/genome_mapped/108_S108_L001_R1_001\n",
      "samtools view -f 0x0002 -F 0x0100 -bo output/properly_paired/108_S108_L001_R1_001.bam output/genome_mapped/108_S108_L001_R1_001.bam\n",
      "pairedBamToBed12 -i output/properly_paired/108_S108_L001_R1_001.bam > output/cagescan_pairs/108_S108_L001_R1_001.bed\n",
      "umicountFP -f output/cagescan_pairs/108_S108_L001_R1_001.bed > output/cagescan_fragments/108_S108_L001_R1_001.bed\n",
      "tagdust -t8 -o output/tagdust_r1/109_S109_L001_R1_001 -1 F:NNNNNNNN -2 S:TATAGGG -3 R:N ./test_data/109_S109_L001_R1_001.fastq.gz\n",
      "gunzip -c ./test_data/109_S109_L001_R2_001.fastq.gz > output/unzip_r2/109_S109_L001_R1_001.fq\n",
      "syncpairs output/tagdust_r1/109_S109_L001_R1_001.fq output/unzip_r2/109_S109_L001_R1_001.fq output/extracted_r1/109_S109_L001_R1_001.fq output/extracted_r2/109_S109_L001_R1_001.fq\n",
      "tagdust -arch SimpleArchitecture.txt -ref ercc_and_hg38_rRNA.fa -o output/cleaned_reads/109_S109_L001_R1_001 output/extracted_r1/109_S109_L001_R1_001.fq output/extracted_r2/109_S109_L001_R1_001.fq\n",
      "cp output/cleaned_reads/109_S109_L001_R1_001_READ1.fq output/cleaned_r1/109_S109_L001_R1_001.fq\n",
      "cp output/cleaned_reads/109_S109_L001_R1_001_READ2.fq output/cleaned_r2/109_S109_L001_R1_001.fq\n",
      "bwa aln ./GRCh38.fa output/cleaned_r1/109_S109_L001_R1_001.fq > output/r1_sai/109_S109_L001_R1_001.sai\n",
      "bwa aln ./GRCh38.fa output/cleaned_r2/109_S109_L001_R1_001.fq > output/r2_sai/109_S109_L001_R1_001.sai\n",
      "bwa sampe -a 2000000 -c 0.00001 ./GRCh38.fa output/r1_sai/109_S109_L001_R1_001.sai output/r2_sai/109_S109_L001_R1_001.sai output/cleaned_r1/109_S109_L001_R1_001.fq output/cleaned_r2/109_S109_L001_R1_001.fq > output/sampe/109_S109_L001_R1_001.sam\n",
      "samtools view -bSo  output/sam_to_bam/109_S109_L001_R1_001.bam output/sampe/109_S109_L001_R1_001.sam\n",
      "samtools sort -n output/sam_to_bam/109_S109_L001_R1_001.bam output/genome_mapped/109_S109_L001_R1_001\n",
      "samtools view -f 0x0002 -F 0x0100 -bo output/properly_paired/109_S109_L001_R1_001.bam output/genome_mapped/109_S109_L001_R1_001.bam\n",
      "pairedBamToBed12 -i output/properly_paired/109_S109_L001_R1_001.bam > output/cagescan_pairs/109_S109_L001_R1_001.bed\n",
      "umicountFP -f output/cagescan_pairs/109_S109_L001_R1_001.bed > output/cagescan_fragments/109_S109_L001_R1_001.bed\n"
     ]
    }
   ],
   "source": [
    "for read1, read2 in zip(reads1, reads2):\n",
    "    args = get_args(read1, read2, ref_genome, output_folders)\n",
    "    args = dict(args, **softwares)\n",
    "    \n",
    "    for cmd in cmds:\n",
    "        print cmd.format(**args)\n",
    "        subprocess.call(cmd.format(**args), preexec_fn=lambda: signal.signal(signal.SIGPIPE, signal.SIG_DFL), shell=True)"
   ]
  }
 ],
 "metadata": {
  "kernelspec": {
   "display_name": "Python 2",
   "language": "python",
   "name": "python2"
  },
  "language_info": {
   "codemirror_mode": {
    "name": "ipython",
    "version": 2.0
   },
   "file_extension": ".py",
   "mimetype": "text/x-python",
   "name": "python",
   "nbconvert_exporter": "python",
   "pygments_lexer": "ipython2",
   "version": "2.7.10"
  }
 },
 "nbformat": 4,
 "nbformat_minor": 0
}